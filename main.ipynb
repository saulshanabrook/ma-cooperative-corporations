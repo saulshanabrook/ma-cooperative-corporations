{
 "cells": [
  {
   "cell_type": "markdown",
   "id": "b53b8411-6cd3-43e6-b10b-54eeb7544626",
   "metadata": {},
   "source": [
    "## Load searches"
   ]
  },
  {
   "cell_type": "code",
   "execution_count": 1,
   "id": "ba532986-5dc3-4113-a7f9-a7f432a54f6d",
   "metadata": {},
   "outputs": [],
   "source": [
    "import pathlib"
   ]
  },
  {
   "cell_type": "code",
   "execution_count": 2,
   "id": "3640a49a-ac4e-4a50-9604-3289cf8a892d",
   "metadata": {},
   "outputs": [],
   "source": [
    "searches_dir = pathlib.Path(\"searches\")"
   ]
  },
  {
   "cell_type": "code",
   "execution_count": 6,
   "id": "34710652-130d-445b-b04e-6f0c555d9eb4",
   "metadata": {},
   "outputs": [],
   "source": [
    "searches_html = [path.read_text() for path in searches_dir.glob(\"*.html\")]"
   ]
  },
  {
   "cell_type": "markdown",
   "id": "6f57c136-bed0-4033-86ac-b61ea7c7640f",
   "metadata": {},
   "source": [
    "## Parse searches"
   ]
  },
  {
   "cell_type": "code",
   "execution_count": null,
   "id": "caad1619-9008-4b15-9e9a-a3efd0827a5f",
   "metadata": {},
   "outputs": [],
   "source": [
    "import bs4"
   ]
  },
  {
   "cell_type": "code",
   "execution_count": 9,
   "id": "7bcbc04d-bd9b-4f77-b7b5-6c46ad9e0086",
   "metadata": {},
   "outputs": [],
   "source": [
    "searches_soup = list(map(bs4.BeautifulSoup, searches_html))"
   ]
  },
  {
   "cell_type": "code",
   "execution_count": 16,
   "id": "4f5e04df-1600-42e5-aede-721999a5c699",
   "metadata": {},
   "outputs": [],
   "source": [
    "rows = [r for s in searches_soup for r in s.find_all(\"li\")]\n",
    "assert len(rows) == 221"
   ]
  },
  {
   "cell_type": "code",
   "execution_count": 19,
   "id": "8d123a17-dd27-4481-83bf-08ba3b43b036",
   "metadata": {},
   "outputs": [],
   "source": [
    "r = rows[0]"
   ]
  },
  {
   "cell_type": "markdown",
   "id": "de17cc94-0ad1-46e9-922e-250e23a7dda1",
   "metadata": {},
   "source": [
    "define inner function as whole in jupyter notebook?\n",
    "\n",
    "do some logic, then abstract over input to make function via linea dataflow graph?"
   ]
  },
  {
   "cell_type": "code",
   "execution_count": 22,
   "id": "42f5ee18-00c0-4be6-8de1-c3102bcfa529",
   "metadata": {},
   "outputs": [
    {
     "data": {
      "text/plain": [
       "False"
      ]
     },
     "execution_count": 22,
     "metadata": {},
     "output_type": "execute_result"
    }
   ],
   "source": [
    "'active' in r['class']"
   ]
  },
  {
   "cell_type": "code",
   "execution_count": 26,
   "id": "3298a1bb-9218-4d27-8058-7dd2174df711",
   "metadata": {},
   "outputs": [
    {
     "data": {
      "text/plain": [
       "'33 SHATTUCK STREET COOPERATIVE CORPORATION'"
      ]
     },
     "execution_count": 26,
     "metadata": {},
     "output_type": "execute_result"
    }
   ],
   "source": [
    "r.find(class_=\"company_search_result\").text"
   ]
  },
  {
   "cell_type": "code",
   "execution_count": 27,
   "id": "b8acb760-3481-4f56-8c57-f05da7467211",
   "metadata": {},
   "outputs": [
    {
     "data": {
      "text/plain": [
       "'6 Jan 1989'"
      ]
     },
     "execution_count": 27,
     "metadata": {},
     "output_type": "execute_result"
    }
   ],
   "source": [
    "r.find(class_=\"start_date\").text"
   ]
  },
  {
   "cell_type": "code",
   "execution_count": 28,
   "id": "e20c1115-d8b4-432a-ba44-8b25c8976b96",
   "metadata": {},
   "outputs": [
    {
     "data": {
      "text/plain": [
       "'33 SHATTUCK ST., GREENFIELD, MA, 01301'"
      ]
     },
     "execution_count": 28,
     "metadata": {},
     "output_type": "execute_result"
    }
   ],
   "source": [
    "r.find(class_=\"address\").text"
   ]
  },
  {
   "cell_type": "markdown",
   "id": "271c1041-149a-440e-98c4-2da96cbb9770",
   "metadata": {},
   "source": [
    "html parsing as declerative spec, regex, pattern matching?"
   ]
  },
  {
   "cell_type": "code",
   "execution_count": 35,
   "id": "aad2125a-312c-4483-a3be-d35d8b2858d6",
   "metadata": {},
   "outputs": [
    {
     "data": {
      "text/plain": [
       "{'active': False,\n",
       " 'name': '33 SHATTUCK STREET COOPERATIVE CORPORATION',\n",
       " 'start_date': '6 Jan 1989',\n",
       " 'end_date': '1 Jul 1996',\n",
       " 'address': '33 SHATTUCK ST., GREENFIELD, MA, 01301'}"
      ]
     },
     "execution_count": 35,
     "metadata": {},
     "output_type": "execute_result"
    }
   ],
   "source": [
    "data = [\n",
    "    {\n",
    "        \"active\": 'active' in r['class'],\n",
    "        \"name\": r.find(class_=\"company_search_result\").text.strip(),\n",
    "        \"start_date\": r.find(class_=\"start_date\").text.strip(),\n",
    "        \"end_date\": end_date.text.strip() if (end_date := r.find(class_=\"end_date\")) else \"\",\n",
    "        \"address\": address.text.strip() if (address := r.find(class_=\"address\")) else \"\"\n",
    "    }\n",
    "    for r in rows\n",
    "]\n",
    "data[0]"
   ]
  },
  {
   "cell_type": "markdown",
   "id": "52438c80-6d1a-4b5d-a2c5-95045153f835",
   "metadata": {},
   "source": [
    "## Write to CSV"
   ]
  },
  {
   "cell_type": "code",
   "execution_count": 36,
   "id": "daba7c18-46a6-4845-b2c6-39cafe0689b8",
   "metadata": {},
   "outputs": [],
   "source": [
    "import csv"
   ]
  },
  {
   "cell_type": "code",
   "execution_count": 37,
   "id": "61f50a5e-6923-4cd3-899e-5793812feff6",
   "metadata": {},
   "outputs": [
    {
     "data": {
      "text/plain": [
       "['active', 'name', 'start_date', 'end_date', 'address']"
      ]
     },
     "execution_count": 37,
     "metadata": {},
     "output_type": "execute_result"
    }
   ],
   "source": [
    "fieldnames = list(data[0].keys())\n",
    "fieldnames"
   ]
  },
  {
   "cell_type": "code",
   "execution_count": 39,
   "id": "c1d5928b-992a-41fc-828a-cfb0a4a486b5",
   "metadata": {},
   "outputs": [],
   "source": [
    "with open('data.csv', 'w', newline='') as csvfile:\n",
    "    writer = csv.DictWriter(csvfile, fieldnames=fieldnames)\n",
    "    writer.writeheader()\n",
    "    for r in data:\n",
    "        writer.writerow(r)"
   ]
  },
  {
   "cell_type": "code",
   "execution_count": null,
   "id": "fac5558d-2e42-482a-86bc-3702ff8094a0",
   "metadata": {},
   "outputs": [],
   "source": []
  }
 ],
 "metadata": {
  "kernelspec": {
   "display_name": "Python 3 (ipykernel)",
   "language": "python",
   "name": "python3"
  },
  "language_info": {
   "codemirror_mode": {
    "name": "ipython",
    "version": 3
   },
   "file_extension": ".py",
   "mimetype": "text/x-python",
   "name": "python",
   "nbconvert_exporter": "python",
   "pygments_lexer": "ipython3",
   "version": "3.10.4"
  }
 },
 "nbformat": 4,
 "nbformat_minor": 5
}
